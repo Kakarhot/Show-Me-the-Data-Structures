{
 "cells": [
  {
   "cell_type": "code",
   "execution_count": 1,
   "metadata": {},
   "outputs": [],
   "source": [
    "import os"
   ]
  },
  {
   "cell_type": "code",
   "execution_count": 2,
   "metadata": {},
   "outputs": [],
   "source": [
    "def find_files(suffix, path):\n",
    "    \"\"\"\n",
    "    Find all files beneath path with file name suffix.\n",
    "\n",
    "    Note that a path may contain further subdirectories\n",
    "    and those subdirectories may also contain further subdirectories.\n",
    "\n",
    "    There are no limit to the depth of the subdirectories can be.\n",
    "\n",
    "    Args:\n",
    "      suffix(str): suffix if the file name to be found\n",
    "      path(str): path of the file system\n",
    "\n",
    "    Returns:\n",
    "       a list of paths\n",
    "    \"\"\"\n",
    "    paths = []\n",
    "    \n",
    "    def find_files_func(suffix, path):\n",
    "        for filename in os.listdir(path):\n",
    "            filename_full = os.path.join(path, filename)\n",
    "            if os.path.isfile(filename_full) and filename.endswith(suffix):\n",
    "                paths.append(filename_full)\n",
    "            if os.path.isdir(filename_full):\n",
    "                find_files_func(suffix, filename_full)\n",
    "    \n",
    "    find_files_func(suffix, path)\n",
    "    \n",
    "    return paths"
   ]
  },
  {
   "cell_type": "code",
   "execution_count": 28,
   "metadata": {},
   "outputs": [
    {
     "data": {
      "text/plain": [
       "['/Users/wenshuochen/Downloads/P0/testdir/subdir3/subsubdir1/b.c',\n",
       " '/Users/wenshuochen/Downloads/P0/testdir/t1.c',\n",
       " '/Users/wenshuochen/Downloads/P0/testdir/subdir5/a.c',\n",
       " '/Users/wenshuochen/Downloads/P0/testdir/subdir1/a.c']"
      ]
     },
     "execution_count": 28,
     "metadata": {},
     "output_type": "execute_result"
    }
   ],
   "source": [
    "find_files(\".c\", '/Users/wenshuochen/Downloads/P0/testdir/')"
   ]
  },
  {
   "cell_type": "code",
   "execution_count": 3,
   "metadata": {},
   "outputs": [
    {
     "data": {
      "text/plain": [
       "['./testdir/subdir3/subsubdir1/b.c',\n",
       " './testdir/t1.c',\n",
       " './testdir/subdir5/a.c',\n",
       " './testdir/subdir1/a.c']"
      ]
     },
     "execution_count": 3,
     "metadata": {},
     "output_type": "execute_result"
    }
   ],
   "source": [
    "find_files(\".c\", '.')"
   ]
  },
  {
   "cell_type": "code",
   "execution_count": 4,
   "metadata": {},
   "outputs": [
    {
     "data": {
      "text/plain": [
       "['./explanation_6.md',\n",
       " './.DS_Store',\n",
       " './explanation_3.md',\n",
       " './solution_2.py',\n",
       " './solution_6.py',\n",
       " './solution_3.py',\n",
       " './p3.ipynb',\n",
       " './solution_4.py',\n",
       " './p1.ipynb',\n",
       " './p5.ipynb',\n",
       " './testdir/.DS_Store',\n",
       " './testdir/subdir4/.gitkeep',\n",
       " './testdir/subdir3/.DS_Store',\n",
       " './testdir/subdir3/subsubdir1/b.h',\n",
       " './testdir/subdir3/subsubdir1/b.c',\n",
       " './testdir/t1.c',\n",
       " './testdir/subdir2/.gitkeep',\n",
       " './testdir/subdir5/a.h',\n",
       " './testdir/subdir5/a.c',\n",
       " './testdir/t1.h',\n",
       " './testdir/subdir1/a.h',\n",
       " './testdir/subdir1/a.c',\n",
       " './solution_5.py',\n",
       " './.ipynb_checkpoints/p5-checkpoint.ipynb',\n",
       " './.ipynb_checkpoints/p1-checkpoint.ipynb',\n",
       " './.ipynb_checkpoints/p4-checkpoint.ipynb',\n",
       " './.ipynb_checkpoints/p3-checkpoint.ipynb',\n",
       " './.ipynb_checkpoints/p6-checkpoint.ipynb',\n",
       " './.ipynb_checkpoints/p2-checkpoint.ipynb',\n",
       " './explanation_4.md',\n",
       " './.git/config',\n",
       " './.git/HEAD',\n",
       " './.git/info/exclude',\n",
       " './.git/description',\n",
       " './.git/hooks/commit-msg.sample',\n",
       " './.git/hooks/pre-rebase.sample',\n",
       " './.git/hooks/pre-commit.sample',\n",
       " './.git/hooks/applypatch-msg.sample',\n",
       " './.git/hooks/fsmonitor-watchman.sample',\n",
       " './.git/hooks/pre-receive.sample',\n",
       " './.git/hooks/prepare-commit-msg.sample',\n",
       " './.git/hooks/post-update.sample',\n",
       " './.git/hooks/pre-applypatch.sample',\n",
       " './.git/hooks/pre-push.sample',\n",
       " './.git/hooks/update.sample',\n",
       " './p2.ipynb',\n",
       " './p6.ipynb',\n",
       " './explanation_5.md',\n",
       " './p4.ipynb',\n",
       " './explanation_5']"
      ]
     },
     "execution_count": 4,
     "metadata": {},
     "output_type": "execute_result"
    }
   ],
   "source": [
    "find_files(\"\", '.')"
   ]
  },
  {
   "cell_type": "code",
   "execution_count": 1,
   "metadata": {},
   "outputs": [
    {
     "name": "stdout",
     "output_type": "stream",
     "text": [
      "['Untitled1.ipynb', '.DS_Store', 'texts.csv', 'Untitled.ipynb', 'Task3.py', 'Task2.py', 'submit.zip', 'Analysis.txt', 'p1.ipynb', 'Task1.py', 'Task0.py', 'calls.csv', 'Task4.py', '.ipynb_checkpoints']\n"
     ]
    }
   ],
   "source": [
    "## Locally save and call this file ex.py ##\n",
    "\n",
    "# Code to demonstrate the use of some of the OS modules in python\n",
    "\n",
    "\n",
    "\n",
    "# Let us print the files in the directory in which you are running this script\n",
    "print (os.listdir(\".\"))"
   ]
  },
  {
   "cell_type": "code",
   "execution_count": 10,
   "metadata": {},
   "outputs": [
    {
     "data": {
      "text/plain": [
       "'/home/Downloads/P0'"
      ]
     },
     "execution_count": 10,
     "metadata": {},
     "output_type": "execute_result"
    }
   ],
   "source": [
    "os.path.join(\"/home\", \"Downloads\", \"P0\")"
   ]
  },
  {
   "cell_type": "code",
   "execution_count": 13,
   "metadata": {},
   "outputs": [
    {
     "name": "stdout",
     "output_type": "stream",
     "text": [
      "['Untitled1.ipynb', '.DS_Store', 'texts.csv', 'Untitled.ipynb', 'Task3.py', 'Task2.py', 'submit.zip', 'Analysis.txt', 'p1.ipynb', 'Task1.py', 'Task0.py', 'calls.csv', 'Task4.py', '.ipynb_checkpoints']\n"
     ]
    }
   ],
   "source": [
    "print (os.listdir('/Users/wenshuochen/Downloads/P0'))"
   ]
  },
  {
   "cell_type": "code",
   "execution_count": 12,
   "metadata": {},
   "outputs": [
    {
     "name": "stdout",
     "output_type": "stream",
     "text": [
      "False\n"
     ]
    }
   ],
   "source": [
    "# Let us check if this file is indeed a file!\n",
    "print (os.path.isfile(\"/Users/wenshuochen/Downloads/P0\"))"
   ]
  },
  {
   "cell_type": "code",
   "execution_count": 6,
   "metadata": {},
   "outputs": [
    {
     "name": "stdout",
     "output_type": "stream",
     "text": [
      "False\n"
     ]
    }
   ],
   "source": [
    "# Does the file end with .py?\n",
    "print (\"111\".endswith(\"121\"))"
   ]
  },
  {
   "cell_type": "code",
   "execution_count": 8,
   "metadata": {},
   "outputs": [
    {
     "name": "stdout",
     "output_type": "stream",
     "text": [
      "False\n"
     ]
    }
   ],
   "source": [
    "print (os.path.isdir(\"Untitled1.ipynb\"))"
   ]
  },
  {
   "cell_type": "code",
   "execution_count": 9,
   "metadata": {},
   "outputs": [
    {
     "name": "stdout",
     "output_type": "stream",
     "text": [
      "/home/User/Desktop/file.txt\n"
     ]
    }
   ],
   "source": [
    "path = \"/home\"\n",
    "  \n",
    "# Join various path components  \n",
    "print(os.path.join(path, \"User/Desktop\", \"file.txt\"))"
   ]
  },
  {
   "cell_type": "code",
   "execution_count": null,
   "metadata": {},
   "outputs": [],
   "source": []
  }
 ],
 "metadata": {
  "kernelspec": {
   "display_name": "Python 3",
   "language": "python",
   "name": "python3"
  },
  "language_info": {
   "codemirror_mode": {
    "name": "ipython",
    "version": 3
   },
   "file_extension": ".py",
   "mimetype": "text/x-python",
   "name": "python",
   "nbconvert_exporter": "python",
   "pygments_lexer": "ipython3",
   "version": "3.7.5"
  }
 },
 "nbformat": 4,
 "nbformat_minor": 2
}
