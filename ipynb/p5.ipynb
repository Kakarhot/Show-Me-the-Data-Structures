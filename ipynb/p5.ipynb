{
 "cells": [
  {
   "cell_type": "code",
   "execution_count": 61,
   "metadata": {},
   "outputs": [],
   "source": [
    "import hashlib\n",
    "from time import gmtime, strftime\n",
    "import time"
   ]
  },
  {
   "cell_type": "code",
   "execution_count": 75,
   "metadata": {},
   "outputs": [],
   "source": [
    "class Block:\n",
    "\n",
    "    def __init__(self, timestamp, data, previous_hash):   \n",
    "        self.timestamp = timestamp\n",
    "        self.data = data\n",
    "        self.previous_hash = previous_hash\n",
    "        self.hash = self.calc_hash()\n",
    "        \n",
    "    def calc_hash(self):\n",
    "        sha = hashlib.sha256()\n",
    "        hash_str = (str(self.data).encode('utf-8') +\n",
    "                   str(self.previous_hash).encode('utf-8') +\n",
    "                   str(self.timestamp).encode('utf-8')) \n",
    "        sha.update(hash_str)\n",
    "        \n",
    "        return sha.hexdigest()\n",
    "    \n",
    "    def __str__(self):\n",
    "        return \"\\nBlock Hash:{}\\nData:{}\\nPrevious Hash:{}\\nTimestamp:{}\".format(self.hash, self.data, self.previous_hash, self.timestamp)"
   ]
  },
  {
   "cell_type": "code",
   "execution_count": 65,
   "metadata": {},
   "outputs": [],
   "source": [
    "class Node:\n",
    "    \n",
    "    def __init__(self, data, previous_hash):\n",
    "        self.block = Block(time.strftime(\"%d/%m/%Y %H:%M:%S\", time.gmtime()), data, previous_hash)\n",
    "        self.next = None"
   ]
  },
  {
   "cell_type": "code",
   "execution_count": 80,
   "metadata": {},
   "outputs": [],
   "source": [
    "class BlockChain():\n",
    "    \n",
    "    def __init__(self):\n",
    "        self.head = None\n",
    "        self.tail = None\n",
    "        \n",
    "    def append(self, data = None):   \n",
    "        if data == None:\n",
    "            print(\"Can't append empty block\")\n",
    "            return\n",
    "\n",
    "        if self.head is None:\n",
    "            self.head = Node(data, None)\n",
    "            self.tail = self.head\n",
    "            return    \n",
    "        \n",
    "        self.tail.next = Node(data, self.tail.block.hash)\n",
    "        self.tail = self.tail.next          \n",
    "        \n",
    "    def __str__(self):\n",
    "        if self.head == None:\n",
    "            return 'Block chain is empty'\n",
    "        \n",
    "        current = self.head\n",
    "        outstring = \"\"\n",
    "        while current:\n",
    "            outstring += str(current.block)\n",
    "            current = current.next\n",
    "        return outstring"
   ]
  },
  {
   "cell_type": "code",
   "execution_count": 76,
   "metadata": {},
   "outputs": [
    {
     "name": "stdout",
     "output_type": "stream",
     "text": [
      "\n",
      "------------------------------\n",
      "\n",
      "\n",
      "Block Hash:1a70d90b44cd8fcddc604705bbaed7e0fd2bd181dd892ede9288b6531343c05a\n",
      "Data:Some Information\n",
      "Previous Hash:None\n",
      "Timestamp:18/03/2020 10:36:50\n",
      "Block Hash:aa9e8258e030092e77baf42d987d4144e8dd6044f0206864fb6c0f9f69a6c82e\n",
      "Data:new Information\n",
      "Previous Hash:1a70d90b44cd8fcddc604705bbaed7e0fd2bd181dd892ede9288b6531343c05a\n",
      "Timestamp:18/03/2020 10:36:50\n",
      "Block Hash:a7d91b75f7c5992734605322b953289848d3bcca589ddc92b5e5b81c6d4ac483\n",
      "Data:3rd Block\n",
      "Previous Hash:aa9e8258e030092e77baf42d987d4144e8dd6044f0206864fb6c0f9f69a6c82e\n",
      "Timestamp:18/03/2020 10:36:50\n",
      "\n",
      "Block Hash:1a70d90b44cd8fcddc604705bbaed7e0fd2bd181dd892ede9288b6531343c05a\n",
      "Data:Some Information\n",
      "Previous Hash:None\n",
      "Timestamp:18/03/2020 10:36:50\n",
      "\n",
      "Block Hash:aa9e8258e030092e77baf42d987d4144e8dd6044f0206864fb6c0f9f69a6c82e\n",
      "Data:new Information\n",
      "Previous Hash:1a70d90b44cd8fcddc604705bbaed7e0fd2bd181dd892ede9288b6531343c05a\n",
      "Timestamp:18/03/2020 10:36:50\n",
      "\n",
      "Block Hash:a7d91b75f7c5992734605322b953289848d3bcca589ddc92b5e5b81c6d4ac483\n",
      "Data:3rd Block\n",
      "Previous Hash:aa9e8258e030092e77baf42d987d4144e8dd6044f0206864fb6c0f9f69a6c82e\n",
      "Timestamp:18/03/2020 10:36:50\n"
     ]
    }
   ],
   "source": [
    "print('\\n------------------------------\\n')\n",
    "block_chain = BlockChain()\n",
    "block_chain.append(\"Some Information\")\n",
    "block_chain.append(\"new Information\")\n",
    "block_chain.append(\"3rd Block\")\n",
    "\n",
    "\n",
    "current_block = block_chain.head\n",
    "print(block_chain)\n",
    "#expected output: prints the 3 blocks\n",
    "\n",
    "print(current_block.block)\n",
    "#outputs the first blocks data\n",
    "\n",
    "current_block = current_block.next\n",
    "print(current_block.block)\n",
    "#outputs the second blocks data\n",
    "\n",
    "current_block = current_block.next\n",
    "print(current_block.block)\n",
    "#outputs the last blocks data"
   ]
  },
  {
   "cell_type": "code",
   "execution_count": 78,
   "metadata": {},
   "outputs": [
    {
     "name": "stdout",
     "output_type": "stream",
     "text": [
      "\n",
      "------------------------------\n",
      "\n",
      "Block chain is empty\n"
     ]
    }
   ],
   "source": [
    "print('\\n------------------------------\\n')\n",
    "block_chain = BlockChain()\n",
    "\n",
    "print(block_chain)\n",
    "#expected output: Block Chain is empty"
   ]
  },
  {
   "cell_type": "code",
   "execution_count": 81,
   "metadata": {},
   "outputs": [
    {
     "name": "stdout",
     "output_type": "stream",
     "text": [
      "\n",
      "------------------------------\n",
      "\n",
      "Can't append empty block\n",
      "Can't append empty block\n",
      "\n",
      "Block Hash:550b7ac90322ecc3bd9ebc8067226a188de58e4c2edd89b0cb0f0ba266c12345\n",
      "Data:only this block should be there\n",
      "Previous Hash:None\n",
      "Timestamp:18/03/2020 10:39:20\n"
     ]
    }
   ],
   "source": [
    "print('\\n------------------------------\\n')\n",
    "block_chain = BlockChain()\n",
    "\n",
    "block_chain.append()\n",
    "block_chain.append(\"only this block should be there\")\n",
    "block_chain.append()\n",
    "\n",
    "print(block_chain)\n",
    "#expected output: prints 1 block only"
   ]
  },
  {
   "cell_type": "code",
   "execution_count": null,
   "metadata": {},
   "outputs": [],
   "source": []
  }
 ],
 "metadata": {
  "kernelspec": {
   "display_name": "Python 3",
   "language": "python",
   "name": "python3"
  },
  "language_info": {
   "codemirror_mode": {
    "name": "ipython",
    "version": 3
   },
   "file_extension": ".py",
   "mimetype": "text/x-python",
   "name": "python",
   "nbconvert_exporter": "python",
   "pygments_lexer": "ipython3",
   "version": "3.7.5"
  }
 },
 "nbformat": 4,
 "nbformat_minor": 2
}
