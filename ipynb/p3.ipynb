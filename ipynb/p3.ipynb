{
 "cells": [
  {
   "cell_type": "code",
   "execution_count": 1,
   "metadata": {},
   "outputs": [],
   "source": [
    "import sys\n",
    "\n",
    "class Node():\n",
    "    def __init__(self, left, right):\n",
    "        self.left = left\n",
    "        self.right = right\n",
    "    \n",
    "    def children(self):\n",
    "        return (self.left, self.right)\n",
    "    \n",
    "\n",
    "def huffman_tree(node, left=1, bin_string=''):\n",
    "    if type(node) == str:\n",
    "        return {node: bin_string}\n",
    "    \n",
    "    (l, r) = node.children()\n",
    "    d = {}\n",
    "    d.update(huffman_tree(l, 1, bin_string + '0'))\n",
    "    d.update(huffman_tree(r, 0, bin_string + '1'))\n",
    "    \n",
    "    return d\n",
    "    \n",
    "\n",
    "def huffman_encoding(data):\n",
    "        \n",
    "    f_dict = {}\n",
    "    for c in data:\n",
    "        f_dict[c] = f_dict.get(c, 0) + 1\n",
    "    freq = sorted(f_dict.items(), key=lambda tup: tup[1], reverse=True)\n",
    "\n",
    "    nodes = freq\n",
    "    while len(nodes) > 1:\n",
    "        (key1, c1) = nodes[-1]\n",
    "        (key2, c2) = nodes[-2]\n",
    "        nodes = nodes[:-2]\n",
    "        node = Node(key1, key2)\n",
    "        nodes.append((node, c1 + c2))\n",
    "        nodes = sorted(nodes, key=lambda tup: tup[1], reverse=True)\n",
    "\n",
    "    tree = huffman_tree(nodes[0][0])\n",
    "    \n",
    "    encoded_data = ''.join([tree[c] for c in data])\n",
    "    \n",
    "    return encoded_data, tree\n",
    "\n",
    "def huffman_decoding(data, tree):\n",
    "    inv_tree = {v: k for k, v in tree.items()}\n",
    "    output = ''\n",
    "    while len(data) >= 1:\n",
    "        i = 1\n",
    "        while data[:i] not in inv_tree:\n",
    "            i += 1\n",
    "        output = output + inv_tree[data[:i]]\n",
    "        data = data[i:]\n",
    "    return output    \n",
    "\n",
    "a_great_sentence = \"The bird is the word\"\n",
    "\n",
    "print (\"The size of the data is: {}\\n\".format(sys.getsizeof(a_great_sentence)))\n",
    "print (\"The content of the data is: {}\\n\".format(a_great_sentence))\n",
    "\n",
    "encoded_data, tree = huffman_encoding(a_great_sentence)\n",
    "\n",
    "print (\"The size of the encoded data is: {}\\n\".format(sys.getsizeof(int(encoded_data, base=2))))\n",
    "print (\"The content of the encoded data is: {}\\n\".format(encoded_data))\n",
    "\n",
    "decoded_data = huffman_decoding(encoded_data, tree)\n",
    "\n",
    "print (\"The size of the decoded data is: {}\\n\".format(sys.getsizeof(decoded_data)))\n",
    "print (\"The content of the encoded data is: {}\\n\".format(decoded_data))"
   ]
  },
  {
   "cell_type": "code",
   "execution_count": 47,
   "metadata": {},
   "outputs": [],
   "source": [
    "encoded_data, tree = huffman_encoding(\"BCAADDDCCACACAC\")"
   ]
  },
  {
   "cell_type": "code",
   "execution_count": 48,
   "metadata": {},
   "outputs": [
    {
     "data": {
      "text/plain": [
       "'1000111110110110100110110110'"
      ]
     },
     "execution_count": 48,
     "metadata": {},
     "output_type": "execute_result"
    }
   ],
   "source": [
    "encoded_data"
   ]
  },
  {
   "cell_type": "code",
   "execution_count": 53,
   "metadata": {},
   "outputs": [
    {
     "data": {
      "text/plain": [
       "'BCAADDDCCACACAC'"
      ]
     },
     "execution_count": 53,
     "metadata": {},
     "output_type": "execute_result"
    }
   ],
   "source": [
    "huffman_decoding(encoded_data, tree)"
   ]
  },
  {
   "cell_type": "code",
   "execution_count": null,
   "metadata": {},
   "outputs": [],
   "source": []
  }
 ],
 "metadata": {
  "kernelspec": {
   "display_name": "Python 3",
   "language": "python",
   "name": "python3"
  },
  "language_info": {
   "codemirror_mode": {
    "name": "ipython",
    "version": 3
   },
   "file_extension": ".py",
   "mimetype": "text/x-python",
   "name": "python",
   "nbconvert_exporter": "python",
   "pygments_lexer": "ipython3",
   "version": "3.7.5"
  }
 },
 "nbformat": 4,
 "nbformat_minor": 2
}
